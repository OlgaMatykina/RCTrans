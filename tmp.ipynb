{
 "cells": [
  {
   "cell_type": "code",
   "execution_count": 1,
   "metadata": {},
   "outputs": [],
   "source": [
    "import pickle\n",
    "\n",
    "# Путь к файлу\n",
    "file_path = '/media/matykina_ov/FastSSD/nuscenes_radar_temporal_infos_test.pkl'\n",
    "\n",
    "# Открытие и загрузка данных\n",
    "with open(file_path, 'rb') as f:\n",
    "    data_rctrans = pickle.load(f)"
   ]
  },
  {
   "cell_type": "code",
   "execution_count": 2,
   "metadata": {},
   "outputs": [
    {
     "data": {
      "text/plain": [
       "6008"
      ]
     },
     "execution_count": 2,
     "metadata": {},
     "output_type": "execute_result"
    }
   ],
   "source": [
    "len(data_rctrans['infos'])"
   ]
  },
  {
   "cell_type": "code",
   "execution_count": 16,
   "metadata": {},
   "outputs": [],
   "source": [
    "import pickle\n",
    "\n",
    "# Путь к файлу\n",
    "file_path = '/home/matykina_ov/mini_nuscenes_radar_temporal_infos_train.pkl'\n",
    "\n",
    "# Открытие и загрузка данных\n",
    "with open(file_path, 'rb') as f:\n",
    "    data_rctrans = pickle.load(f)"
   ]
  },
  {
   "cell_type": "code",
   "execution_count": 2,
   "metadata": {},
   "outputs": [],
   "source": [
    "import pickle\n",
    "\n",
    "# Загрузка данных из pkl\n",
    "with open('/media/matykina_ov/FastSSD/mini_nuscenes_radar_temporal_infos_val.pkl', 'rb') as f:\n",
    "    data_rctrans = pickle.load(f)\n",
    "\n",
    "# Проход по всем записям и замена 'HPR1' на 'HPR3'\n",
    "for info in data_rctrans['infos']:\n",
    "    # Обновляем lidar_path\n",
    "    if 'lidar_path' in info:\n",
    "        info['lidar_path'] = info['lidar_path'].replace('../HPR3', '/home/docker_rctrans/HPR3')\n",
    "\n",
    "    # Обновляем пути камер\n",
    "    for cam in ['CAM_FRONT', 'CAM_BACK', 'CAM_FRONT_LEFT', 'CAM_BACK_LEFT', 'CAM_FRONT_RIGHT', 'CAM_BACK_RIGHT']:\n",
    "        if cam in info['cams'] and 'data_path' in info['cams'][cam]:\n",
    "            info['cams'][cam]['data_path'] = info['cams'][cam]['data_path'].replace('../HPR3', '/home/docker_rctrans/HPR3')\n",
    "\n",
    "    # Обновляем пути радаров\n",
    "    for radar in ['RADAR_FRONT', 'RADAR_FRONT_LEFT', 'RADAR_FRONT_RIGHT', 'RADAR_BACK_LEFT', 'RADAR_BACK_RIGHT']:\n",
    "        if radar in info['radars']:\n",
    "            for i in range(len(info['radars'][radar])):  # Если в `radars[radar]` список\n",
    "                if 'data_path' in info['radars'][radar][i]:\n",
    "                    info['radars'][radar][i]['data_path'] = info['radars'][radar][i]['data_path'].replace('../HPR3', '/home/docker_rctrans/HPR3')\n",
    "\n",
    "# Сохранение обновленных данных обратно в pkl\n",
    "with open('/media/matykina_ov/FastSSD/mini_nuscenes_radar_temporal_infos_val.pkl', 'wb') as f:\n",
    "    pickle.dump(data_rctrans, f)\n"
   ]
  },
  {
   "cell_type": "code",
   "execution_count": 3,
   "metadata": {},
   "outputs": [
    {
     "data": {
      "text/plain": [
       "323"
      ]
     },
     "execution_count": 3,
     "metadata": {},
     "output_type": "execute_result"
    }
   ],
   "source": [
    "len(data_rctrans['infos'])"
   ]
  },
  {
   "cell_type": "code",
   "execution_count": 4,
   "metadata": {},
   "outputs": [],
   "source": [
    "# Путь к файлу\n",
    "file_path = '/media/matykina_ov/HPR1/nuscenes_infos_test.pkl'\n",
    "\n",
    "# Открытие и загрузка данных\n",
    "with open(file_path, 'rb') as f:\n",
    "    data_bevdepth = pickle.load(f)"
   ]
  },
  {
   "cell_type": "code",
   "execution_count": 5,
   "metadata": {},
   "outputs": [
    {
     "data": {
      "text/plain": [
       "dict"
      ]
     },
     "execution_count": 5,
     "metadata": {},
     "output_type": "execute_result"
    }
   ],
   "source": [
    "type(data_rctrans)"
   ]
  },
  {
   "cell_type": "code",
   "execution_count": 4,
   "metadata": {},
   "outputs": [
    {
     "data": {
      "text/plain": [
       "list"
      ]
     },
     "execution_count": 4,
     "metadata": {},
     "output_type": "execute_result"
    }
   ],
   "source": [
    "type(data_bevdepth)"
   ]
  },
  {
   "cell_type": "code",
   "execution_count": 3,
   "metadata": {},
   "outputs": [
    {
     "data": {
      "text/plain": [
       "dict_keys(['infos', 'metadata'])"
      ]
     },
     "execution_count": 3,
     "metadata": {},
     "output_type": "execute_result"
    }
   ],
   "source": [
    "data_rctrans.keys()"
   ]
  },
  {
   "cell_type": "code",
   "execution_count": 6,
   "metadata": {},
   "outputs": [
    {
     "data": {
      "text/plain": [
       "6008"
      ]
     },
     "execution_count": 6,
     "metadata": {},
     "output_type": "execute_result"
    }
   ],
   "source": [
    "len(data_bevdepth)"
   ]
  },
  {
   "cell_type": "code",
   "execution_count": 7,
   "metadata": {},
   "outputs": [
    {
     "data": {
      "text/plain": [
       "dict_keys(['sample_token', 'timestamp', 'scene_token', 'cam_infos', 'lidar_infos', 'cam_sweeps', 'lidar_sweeps', 'ann_infos'])"
      ]
     },
     "execution_count": 7,
     "metadata": {},
     "output_type": "execute_result"
    }
   ],
   "source": [
    "data_bevdepth[0].keys()"
   ]
  },
  {
   "cell_type": "code",
   "execution_count": 8,
   "metadata": {},
   "outputs": [
    {
     "data": {
      "text/plain": [
       "dict_keys(['sample_token', 'ego_pose', 'timestamp', 'is_key_frame', 'height', 'width', 'filename', 'calibrated_sensor'])"
      ]
     },
     "execution_count": 8,
     "metadata": {},
     "output_type": "execute_result"
    }
   ],
   "source": [
    "data_bevdepth[0]['cam_infos']['CAM_FRONT'].keys()"
   ]
  },
  {
   "cell_type": "code",
   "execution_count": 9,
   "metadata": {},
   "outputs": [
    {
     "data": {
      "text/plain": [
       "{'token': '9cfda43383aa4f989cc07b134985425e',\n",
       " 'sensor_token': '725903f5b62f56118f4094b46a4470d8',\n",
       " 'translation': [1.72200568478, 0.00475453292289, 1.49491291905],\n",
       " 'rotation': [0.5077241387638071,\n",
       "  -0.4973392230703816,\n",
       "  0.49837167536166627,\n",
       "  -0.4964832014373754],\n",
       " 'camera_intrinsic': [[1252.8131021185304, 0.0, 826.588114781398],\n",
       "  [0.0, 1252.8131021185304, 469.9846626224581],\n",
       "  [0.0, 0.0, 1.0]]}"
      ]
     },
     "execution_count": 9,
     "metadata": {},
     "output_type": "execute_result"
    }
   ],
   "source": [
    "data_bevdepth[0]['cam_infos']['CAM_FRONT']['calibrated_sensor']"
   ]
  },
  {
   "cell_type": "code",
   "execution_count": 4,
   "metadata": {},
   "outputs": [
    {
     "data": {
      "text/plain": [
       "6008"
      ]
     },
     "execution_count": 4,
     "metadata": {},
     "output_type": "execute_result"
    }
   ],
   "source": [
    "len(data_rctrans['infos'])"
   ]
  },
  {
   "cell_type": "code",
   "execution_count": 6,
   "metadata": {},
   "outputs": [
    {
     "data": {
      "text/plain": [
       "dict_keys(['lidar_path', 'token', 'prev', 'next', 'sweeps', 'frame_idx', 'cams', 'radars', 'scene_token', 'lidar2ego_translation', 'lidar2ego_rotation', 'ego2global_translation', 'ego2global_rotation', 'timestamp', 'gt_boxes', 'gt_names', 'gt_velocity', 'num_lidar_pts', 'num_radar_pts', 'valid_flag', 'bboxes2d', 'bboxes3d_cams', 'labels2d', 'centers2d', 'depths', 'bboxes_ignore', 'visibilities'])"
      ]
     },
     "execution_count": 6,
     "metadata": {},
     "output_type": "execute_result"
    }
   ],
   "source": [
    "data_rctrans['infos'][0].keys()"
   ]
  },
  {
   "cell_type": "code",
   "execution_count": 9,
   "metadata": {},
   "outputs": [
    {
     "data": {
      "text/plain": [
       "'../HPR2/nuscenes/samples/CAM_FRONT/n015-2018-07-24-11-22-45+0800__CAM_FRONT__1532402927612460.jpg'"
      ]
     },
     "execution_count": 9,
     "metadata": {},
     "output_type": "execute_result"
    }
   ],
   "source": [
    "data_rctrans['infos'][0]['cams']['CAM_FRONT']['data_path']"
   ]
  },
  {
   "cell_type": "code",
   "execution_count": 13,
   "metadata": {},
   "outputs": [
    {
     "data": {
      "text/plain": [
       "dict_keys(['data_path', 'type', 'sample_data_token', 'sensor2ego_translation', 'sensor2ego_rotation', 'ego2global_translation', 'ego2global_rotation', 'timestamp', 'sensor2lidar_rotation', 'sensor2lidar_translation'])"
      ]
     },
     "execution_count": 13,
     "metadata": {},
     "output_type": "execute_result"
    }
   ],
   "source": [
    "data_rctrans['infos'][0]['radars']['RADAR_BACK_LEFT'][0].keys()"
   ]
  },
  {
   "cell_type": "code",
   "execution_count": 10,
   "metadata": {},
   "outputs": [
    {
     "data": {
      "text/plain": [
       "dict_keys(['lidar_path', 'token', 'prev', 'next', 'sweeps', 'frame_idx', 'cams', 'radars', 'scene_token', 'lidar2ego_translation', 'lidar2ego_rotation', 'ego2global_translation', 'ego2global_rotation', 'timestamp', 'gt_boxes', 'gt_names', 'gt_velocity', 'num_lidar_pts', 'num_radar_pts', 'valid_flag', 'bboxes2d', 'bboxes3d_cams', 'labels2d', 'centers2d', 'depths', 'bboxes_ignore', 'visibilities'])"
      ]
     },
     "execution_count": 10,
     "metadata": {},
     "output_type": "execute_result"
    }
   ],
   "source": [
    "data_rctrans['infos'][0].keys()"
   ]
  },
  {
   "cell_type": "code",
   "execution_count": 30,
   "metadata": {},
   "outputs": [
    {
     "data": {
      "text/plain": [
       "'../HPR3/nuscenes/samples/RADAR_FRONT/n008-2018-08-01-16-03-27-0400__RADAR_FRONT__1533153857976557.pcd'"
      ]
     },
     "execution_count": 30,
     "metadata": {},
     "output_type": "execute_result"
    }
   ],
   "source": [
    "data_rctrans['infos'][0]['lidar_path']\n",
    "data_rctrans['infos'][0]['cams']['CAM_BACK']['data_path']\n",
    "data_rctrans['infos'][0]['radars']['RADAR_FRONT'][0]['data_path']"
   ]
  },
  {
   "cell_type": "code",
   "execution_count": 27,
   "metadata": {},
   "outputs": [
    {
     "data": {
      "text/plain": [
       "dict_keys(['RADAR_FRONT', 'RADAR_FRONT_LEFT', 'RADAR_FRONT_RIGHT', 'RADAR_BACK_LEFT', 'RADAR_BACK_RIGHT'])"
      ]
     },
     "execution_count": 27,
     "metadata": {},
     "output_type": "execute_result"
    }
   ],
   "source": [
    "data_rctrans['infos'][0]['radars'].keys()"
   ]
  },
  {
   "cell_type": "code",
   "execution_count": 3,
   "metadata": {},
   "outputs": [
    {
     "data": {
      "text/plain": [
       "dict_keys(['data_path', 'type', 'sample_data_token', 'sensor2ego_translation', 'sensor2ego_rotation', 'ego2global_translation', 'ego2global_rotation', 'timestamp', 'sensor2lidar_rotation', 'sensor2lidar_translation', 'cam_intrinsic'])"
      ]
     },
     "execution_count": 3,
     "metadata": {},
     "output_type": "execute_result"
    }
   ],
   "source": [
    "data_rctrans['infos'][0]['cams']['CAM_FRONT'].keys()"
   ]
  },
  {
   "cell_type": "code",
   "execution_count": 4,
   "metadata": {},
   "outputs": [
    {
     "data": {
      "text/plain": [
       "array([[1.26641720e+03, 0.00000000e+00, 8.16267020e+02],\n",
       "       [0.00000000e+00, 1.26641720e+03, 4.91507066e+02],\n",
       "       [0.00000000e+00, 0.00000000e+00, 1.00000000e+00]])"
      ]
     },
     "execution_count": 4,
     "metadata": {},
     "output_type": "execute_result"
    }
   ],
   "source": [
    "data_rctrans['infos'][0]['cams']['CAM_FRONT']['cam_intrinsic']"
   ]
  },
  {
   "cell_type": "code",
   "execution_count": 8,
   "metadata": {},
   "outputs": [
    {
     "data": {
      "text/plain": [
       "{'data_path': '../HPR2/nuscenes/samples/RADAR_FRONT/n015-2018-07-24-11-22-45+0800__RADAR_FRONT__1532402927664178.pcd',\n",
       " 'type': 'RADAR_FRONT',\n",
       " 'sample_data_token': '37091c75b9704e0daa829ba56dfa0906',\n",
       " 'sensor2ego_translation': [3.412, 0.0, 0.5],\n",
       " 'sensor2ego_rotation': [0.9999984769132877, 0.0, 0.0, 0.0017453283658983088],\n",
       " 'ego2global_translation': [411.25243634487725, 1180.7511754315697, 0.0],\n",
       " 'ego2global_rotation': [0.5721129977125774,\n",
       "  -0.0014962022442161157,\n",
       "  0.011922678049447764,\n",
       "  -0.8200867813684729],\n",
       " 'timestamp': 1532402927664178,\n",
       " 'sensor2lidar_rotation': array([[-0.00165874, -0.99998137, -0.00587372],\n",
       "        [ 0.99971658, -0.00151875, -0.02375837],\n",
       "        [ 0.02374901, -0.00591147,  0.99970047]]),\n",
       " 'sensor2lidar_translation': array([ 0.01279837,  2.64863774, -1.27639935])}"
      ]
     },
     "execution_count": 8,
     "metadata": {},
     "output_type": "execute_result"
    }
   ],
   "source": [
    "data_rctrans['infos'][0]['radars']['RADAR_FRONT'][0]"
   ]
  },
  {
   "cell_type": "code",
   "execution_count": 5,
   "metadata": {},
   "outputs": [
    {
     "name": "stdout",
     "output_type": "stream",
     "text": [
      "[0.5720063498929273, -0.0021434844534272707, 0.011564094980151613, -0.8201648693182716]\n",
      "[411.4199861830012, 1181.197175631848, 0.0]\n",
      "[0.4998015430569128, -0.5030316162024876, 0.4997798114386805, -0.49737083824542755]\n",
      "[1.70079118954, 0.0159456324149, 1.51095763913]\n"
     ]
    }
   ],
   "source": [
    "print(data_rctrans['infos'][0]['cams']['CAM_FRONT']['ego2global_rotation'])\n",
    "print(data_rctrans['infos'][0]['cams']['CAM_FRONT']['ego2global_translation'])\n",
    "\n",
    "print(data_rctrans['infos'][0]['cams']['CAM_FRONT']['sensor2ego_rotation'])\n",
    "print(data_rctrans['infos'][0]['cams']['CAM_FRONT']['sensor2ego_translation'])\n"
   ]
  },
  {
   "cell_type": "code",
   "execution_count": 25,
   "metadata": {},
   "outputs": [
    {
     "name": "stdout",
     "output_type": "stream",
     "text": [
      "[[ 0.99989998 -0.0093135  -0.0106438 ]\n",
      " [ 0.01113724  0.05463942  0.99844404]\n",
      " [-0.00871744 -0.99846271  0.05473769]]\n"
     ]
    }
   ],
   "source": [
    "print(data_rctrans['infos'][0]['cams']['CAM_FRONT']['sensor2lidar_rotation'])"
   ]
  },
  {
   "cell_type": "code",
   "execution_count": 20,
   "metadata": {},
   "outputs": [
    {
     "data": {
      "text/plain": [
       "dict_keys(['sample_token', 'ego_pose', 'timestamp', 'is_key_frame', 'height', 'width', 'filename', 'calibrated_sensor'])"
      ]
     },
     "execution_count": 20,
     "metadata": {},
     "output_type": "execute_result"
    }
   ],
   "source": [
    "data_bevdepth[0]['cam_infos']['CAM_FRONT'].keys()"
   ]
  },
  {
   "cell_type": "code",
   "execution_count": 23,
   "metadata": {},
   "outputs": [
    {
     "name": "stdout",
     "output_type": "stream",
     "text": [
      "[0.012355004505000388, -0.0003074225144089657, 0.025075606972543442, -0.9996091602671698]\n",
      "[2377.0895143883054, 796.5771631299015, 0.0]\n",
      "[0.5077241387638071, -0.4973392230703816, 0.49837167536166627, -0.4964832014373754]\n",
      "[1.72200568478, 0.00475453292289, 1.49491291905]\n"
     ]
    }
   ],
   "source": [
    "print(data_bevdepth[0]['cam_infos']['CAM_FRONT']['ego_pose']['rotation'])\n",
    "print(data_bevdepth[0]['cam_infos']['CAM_FRONT']['ego_pose']['translation'])\n",
    "\n",
    "print(data_bevdepth[0]['cam_infos']['CAM_FRONT']['calibrated_sensor']['rotation'])\n",
    "print(data_bevdepth[0]['cam_infos']['CAM_FRONT']['calibrated_sensor']['translation'])"
   ]
  },
  {
   "cell_type": "code",
   "execution_count": 13,
   "metadata": {},
   "outputs": [
    {
     "data": {
      "text/plain": [
       "'bc6a757d637f4832be68986833ec17ac'"
      ]
     },
     "execution_count": 13,
     "metadata": {},
     "output_type": "execute_result"
    }
   ],
   "source": [
    "data_rctrans['infos'][0]['scene_token']"
   ]
  },
  {
   "cell_type": "code",
   "execution_count": 14,
   "metadata": {},
   "outputs": [
    {
     "data": {
      "text/plain": [
       "'bc6a757d637f4832be68986833ec17ac'"
      ]
     },
     "execution_count": 14,
     "metadata": {},
     "output_type": "execute_result"
    }
   ],
   "source": [
    "data_bevdepth[0]['scene_token']"
   ]
  },
  {
   "cell_type": "code",
   "execution_count": 15,
   "metadata": {},
   "outputs": [
    {
     "data": {
      "text/plain": [
       "'../HPR1/nuscenes/samples/CAM_FRONT/n008-2018-08-01-16-03-27-0400__CAM_FRONT__1533153857912404.jpg'"
      ]
     },
     "execution_count": 15,
     "metadata": {},
     "output_type": "execute_result"
    }
   ],
   "source": [
    "data_rctrans['infos'][0]['cams']['CAM_FRONT']['data_path']"
   ]
  },
  {
   "cell_type": "code",
   "execution_count": 16,
   "metadata": {},
   "outputs": [
    {
     "data": {
      "text/plain": [
       "'samples/CAM_FRONT/n008-2018-08-01-16-03-27-0400__CAM_FRONT__1533153857912404.jpg'"
      ]
     },
     "execution_count": 16,
     "metadata": {},
     "output_type": "execute_result"
    }
   ],
   "source": [
    "data_bevdepth[0]['cam_infos']['CAM_FRONT']['filename']"
   ]
  },
  {
   "cell_type": "code",
   "execution_count": null,
   "metadata": {},
   "outputs": [],
   "source": []
  }
 ],
 "metadata": {
  "kernelspec": {
   "display_name": "usr",
   "language": "python",
   "name": "python3"
  },
  "language_info": {
   "codemirror_mode": {
    "name": "ipython",
    "version": 3
   },
   "file_extension": ".py",
   "mimetype": "text/x-python",
   "name": "python",
   "nbconvert_exporter": "python",
   "pygments_lexer": "ipython3",
   "version": "3.8.10"
  }
 },
 "nbformat": 4,
 "nbformat_minor": 2
}
